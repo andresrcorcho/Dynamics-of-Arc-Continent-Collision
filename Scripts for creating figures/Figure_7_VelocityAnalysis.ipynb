{
 "cells": [
  {
   "cell_type": "code",
   "execution_count": 43,
   "metadata": {},
   "outputs": [],
   "source": [
    "import underworld as uw\n",
    "import matplotlib as mpl\n",
    "from matplotlib.figure import Figure\n",
    "import matplotlib.pyplot as pyplot\n",
    "import numpy as np\n",
    "import math\n",
    "import h5py\n",
    "import glob\n",
    "import UWGeodynamics as GEO\n",
    "#from MechanicalProperties import PlateProperties\n",
    "from pathlib import Path\n",
    "import sys\n",
    "import underworld.function as fn\n",
    "#import glucifer\n",
    "from matplotlib import cm\n",
    "import matplotlib.pyplot as plt\n",
    "import matplotlib.colors as mcolors\n",
    "from matplotlib.offsetbox import AnchoredText"
   ]
  },
  {
   "cell_type": "code",
   "execution_count": 44,
   "metadata": {},
   "outputs": [
    {
     "name": "stdout",
     "output_type": "stream",
     "text": [
      "/home/jovyan/user_data/Paper_1_notebooks_Figures\r\n"
     ]
    }
   ],
   "source": [
    "!pwd"
   ]
  },
  {
   "cell_type": "code",
   "execution_count": 99,
   "metadata": {},
   "outputs": [
    {
     "name": "stdout",
     "output_type": "stream",
     "text": [
      "(1.0, 0.96078431372549022, 0.94117647058823528, 1.0)\n"
     ]
    }
   ],
   "source": [
    "cmap = plt.get_cmap(\"Reds\")\n",
    "cmap\n",
    "print(cmap(0.))"
   ]
  },
  {
   "cell_type": "code",
   "execution_count": 120,
   "metadata": {},
   "outputs": [
    {
     "name": "stdout",
     "output_type": "stream",
     "text": [
      "#fff5f0\n",
      "#fff4ef\n",
      "#fff4ee\n",
      "#fff3ed\n",
      "#fff2ec\n",
      "#fff2eb\n",
      "#fff1ea\n",
      "#fff0e9\n",
      "#fff0e8\n",
      "#ffefe8\n",
      "#ffeee7\n",
      "#ffeee6\n",
      "#ffede5\n",
      "#ffece4\n",
      "#ffece3\n",
      "#ffebe2\n",
      "#feeae1\n",
      "#feeae0\n",
      "#fee9df\n",
      "#fee8de\n",
      "#fee8dd\n",
      "#fee7dc\n",
      "#fee7db\n",
      "#fee6da\n",
      "#fee5d9\n",
      "#fee5d8\n",
      "#fee4d8\n",
      "#fee3d7\n",
      "#fee3d6\n",
      "#fee2d5\n",
      "#fee1d4\n",
      "#fee1d3\n",
      "#fee0d2\n",
      "#fedfd0\n",
      "#fedecf\n",
      "#fedccd\n",
      "#fedbcc\n",
      "#fedaca\n",
      "#fed9c9\n",
      "#fed8c7\n",
      "#fdd7c6\n",
      "#fdd5c4\n",
      "#fdd4c2\n",
      "#fdd3c1\n",
      "#fdd2bf\n",
      "#fdd1be\n",
      "#fdd0bc\n",
      "#fdcebb\n",
      "#fdcdb9\n",
      "#fdccb8\n",
      "#fdcbb6\n",
      "#fdcab5\n",
      "#fdc9b3\n",
      "#fdc7b2\n",
      "#fdc6b0\n",
      "#fdc5ae\n",
      "#fcc4ad\n",
      "#fcc3ab\n",
      "#fcc2aa\n",
      "#fcc1a8\n",
      "#fcbfa7\n",
      "#fcbea5\n",
      "#fcbda4\n",
      "#fcbca2\n",
      "#fcbba1\n",
      "#fcb99f\n",
      "#fcb89e\n",
      "#fcb79c\n",
      "#fcb69b\n",
      "#fcb499\n",
      "#fcb398\n",
      "#fcb296\n",
      "#fcb095\n",
      "#fcaf93\n",
      "#fcae92\n",
      "#fcad90\n",
      "#fcab8f\n",
      "#fcaa8d\n",
      "#fca98c\n",
      "#fca78b\n",
      "#fca689\n",
      "#fca588\n",
      "#fca486\n",
      "#fca285\n",
      "#fca183\n",
      "#fca082\n",
      "#fc9e80\n",
      "#fc9d7f\n",
      "#fc9c7d\n",
      "#fc9b7c\n",
      "#fc997a\n",
      "#fc9879\n",
      "#fc9777\n",
      "#fc9576\n",
      "#fc9474\n",
      "#fc9373\n",
      "#fc9272\n",
      "#fc9070\n",
      "#fc8f6f\n",
      "#fc8e6e\n",
      "#fc8d6d\n",
      "#fc8b6b\n",
      "#fc8a6a\n",
      "#fc8969\n",
      "#fc8767\n",
      "#fc8666\n",
      "#fc8565\n",
      "#fc8464\n",
      "#fc8262\n",
      "#fc8161\n",
      "#fc8060\n",
      "#fc7f5f\n",
      "#fb7d5d\n",
      "#fb7c5c\n",
      "#fb7b5b\n",
      "#fb7a5a\n",
      "#fb7858\n",
      "#fb7757\n",
      "#fb7656\n",
      "#fb7555\n",
      "#fb7353\n",
      "#fb7252\n",
      "#fb7151\n",
      "#fb7050\n",
      "#fb6e4e\n",
      "#fb6d4d\n",
      "#fb6c4c\n",
      "#fb6b4b\n",
      "#fb694a\n",
      "#fa6849\n",
      "#fa6648\n",
      "#fa6547\n",
      "#f96346\n",
      "#f96245\n",
      "#f96044\n",
      "#f85f43\n",
      "#f85d42\n",
      "#f75c41\n",
      "#f75b40\n",
      "#f7593f\n",
      "#f6583e\n",
      "#f6563d\n",
      "#f6553c\n",
      "#f5533b\n",
      "#f5523a\n",
      "#f4503a\n",
      "#f44f39\n",
      "#f44d38\n",
      "#f34c37\n",
      "#f34a36\n",
      "#f34935\n",
      "#f24734\n",
      "#f24633\n",
      "#f14432\n",
      "#f14331\n",
      "#f14130\n",
      "#f0402f\n",
      "#f03f2e\n",
      "#f03d2d\n",
      "#ef3c2c\n",
      "#ee3a2c\n",
      "#ed392b\n",
      "#ec382b\n",
      "#eb372a\n",
      "#ea362a\n",
      "#e93529\n",
      "#e83429\n",
      "#e63328\n",
      "#e53228\n",
      "#e43027\n",
      "#e32f27\n",
      "#e22e27\n",
      "#e12d26\n",
      "#e02c26\n",
      "#de2b25\n",
      "#dd2a25\n",
      "#dc2924\n",
      "#db2824\n",
      "#da2723\n",
      "#d92523\n",
      "#d82422\n",
      "#d72322\n",
      "#d52221\n",
      "#d42121\n",
      "#d32020\n",
      "#d21f20\n",
      "#d11e1f\n",
      "#d01d1f\n",
      "#cf1c1f\n",
      "#ce1a1e\n",
      "#cc191e\n",
      "#cb181d\n",
      "#ca181d\n",
      "#c9181d\n",
      "#c8171c\n",
      "#c7171c\n",
      "#c5171c\n",
      "#c4161c\n",
      "#c3161b\n",
      "#c2161b\n",
      "#c1161b\n",
      "#bf151b\n",
      "#be151a\n",
      "#bd151a\n",
      "#bc141a\n",
      "#bb141a\n",
      "#b91419\n",
      "#b81419\n",
      "#b71319\n",
      "#b61319\n",
      "#b51318\n",
      "#b31218\n",
      "#b21218\n",
      "#b11218\n",
      "#b01217\n",
      "#af1117\n",
      "#ad1117\n",
      "#ac1117\n",
      "#ab1016\n",
      "#aa1016\n",
      "#a91016\n",
      "#a81016\n",
      "#a60f15\n",
      "#a50f15\n",
      "#a30f15\n",
      "#a10e15\n",
      "#9f0e14\n",
      "#9d0d14\n",
      "#9c0d14\n",
      "#9a0c14\n",
      "#980c13\n",
      "#960b13\n",
      "#940b13\n",
      "#920a13\n",
      "#900a12\n",
      "#8e0912\n",
      "#8c0912\n",
      "#8a0812\n",
      "#880811\n",
      "#860811\n",
      "#840711\n",
      "#820711\n",
      "#800610\n",
      "#7e0610\n",
      "#7c0510\n",
      "#7a0510\n",
      "#79040f\n",
      "#77040f\n",
      "#75030f\n",
      "#73030f\n",
      "#71020e\n",
      "#6f020e\n",
      "#6d010e\n",
      "#6b010e\n",
      "#69000d\n",
      "#67000d\n"
     ]
    }
   ],
   "source": [
    "cmap = plt.get_cmap(\"Reds\")\n",
    "for i in range(cmap.N):\n",
    "    rgba = cmap(i)\n",
    "    # rgb2hex accepts rgb or rgba\n",
    "    print(mcolors.rgb2hex(rgba))"
   ]
  },
  {
   "cell_type": "code",
   "execution_count": 103,
   "metadata": {},
   "outputs": [
    {
     "name": "stdout",
     "output_type": "stream",
     "text": [
      "(1.0, 0.96078431372549022, 0.94117647058823528, 1.0)\n"
     ]
    }
   ],
   "source": [
    "print(cmap(0.))"
   ]
  },
  {
   "cell_type": "code",
   "execution_count": 118,
   "metadata": {},
   "outputs": [
    {
     "data": {
      "text/plain": [
       "<matplotlib.colors.LinearSegmentedColormap at 0x7fb87f7c2240>"
      ]
     },
     "execution_count": 118,
     "metadata": {},
     "output_type": "execute_result"
    }
   ],
   "source": [
    "cmap."
   ]
  },
  {
   "cell_type": "code",
   "execution_count": 111,
   "metadata": {},
   "outputs": [
    {
     "data": {
      "text/plain": [
       "<matplotlib.colors.Normalize at 0x7fb8b36a6748>"
      ]
     },
     "execution_count": 111,
     "metadata": {},
     "output_type": "execute_result"
    }
   ],
   "source": [
    "norm = mcolors.Normalize(vmin=0, vmax=5)\n",
    "norm"
   ]
  },
  {
   "cell_type": "code",
   "execution_count": 160,
   "metadata": {},
   "outputs": [],
   "source": [
    "def getColoursfromMap(cmapKey,NumColours):\n",
    "    cmap = plt.get_cmap(cmapKey)\n",
    "    norm = mcolors.Normalize(vmin=1.5, vmax=NumColours)\n",
    "    #Base array to calculate the colors\n",
    "    seedColors=np.arange(0,NumColours,1) #Here is the start color\n",
    "    colours=cmap(norm(seedColors))\n",
    "    return colours\n",
    "\n",
    "def genStdColorArray(Thicknesses,colors,colorflip):\n",
    "    iColor=0\n",
    "    limitThick=colorflip[1]\n",
    "    plotCounter=0\n",
    "    #Get Colors and put them into an array\n",
    "    ColorsS=[]\n",
    "    colorC=0\n",
    "    for j in colors:\n",
    "        ColorsS.append(getColoursfromMap(colors[colorC],len(Thicknesses)))\n",
    "        colorC=colorC+1\n",
    "    counter=0\n",
    "    #array which will contain colors to return    \n",
    "    FinalColours=[]\n",
    "    \n",
    "    for i in Thicknesses:\n",
    "        #Color changes\n",
    "        if colorflip[0]==True:\n",
    "            if limitThick> i:\n",
    "                Colors=ColorsS[0]\n",
    "            elif limitThick<=i:\n",
    "                Colors=ColorsS[1]    \n",
    "            else:\n",
    "                Colors=ColorsS[0]     \n",
    "        color=Colors[counter]\n",
    "        FinalColours.append(color)\n",
    "        counter=counter+1\n",
    "    return FinalColours\n",
    "\n",
    "def velocitiesLoader(DataDir,thickness,typePlot,fileSeed):\n",
    "    fileName=DataDir+fileSeed+\"{0}.txt\".format(str(thickness))\n",
    "    Data = np.genfromtxt(fileName, dtype=float,skip_footer=1)\n",
    "    if typePlot==\"subduction_velocity\":\n",
    "        t,vel=Data[:,0],Data[:,1]\n",
    "    elif typePlot==\"Trench_retreat_vel\":\n",
    "        t,vel=Data[:,0],Data[:,2]\n",
    "    elif typePlot==\"OP_retreat_vel\":\n",
    "        t,vel=Data[:,0],Data[:,3]\n",
    "    return t,vel"
   ]
  },
  {
   "cell_type": "code",
   "execution_count": 286,
   "metadata": {},
   "outputs": [],
   "source": [
    "def plotSubploterVelocityAlltxt(figsize,Thicknesses,Colors,plotsIndexes):\n",
    "    mpl.rcParams['pdf.fonttype'] = 42\n",
    "    mpl.rcParams['ps.fonttype'] = 42\n",
    "    Nplots=3\n",
    "    fig, axs = pyplot.subplots(len(plotsIndexes),figsize=figsize,sharex=True)\n",
    "    #Loop for subplots \n",
    "    plotCounter=0\n",
    "    for dataIndex in plotsIndexes:\n",
    "        counter=0\n",
    "        Max=0\n",
    "        Min=0\n",
    "        #Loop for iterating thicknesses\n",
    "        \n",
    "        for i in Thicknesses:\n",
    "            seed=axs[plotCounter]\n",
    "            typePlots=[\"subduction_velocity\",\"Trench_retreat_vel\",\"OP_retreat_vel\",\"Arc_retreat_vel\"]\n",
    "            names=[\"Convergence velocity vs Time\",\"Trench-advance velocity vs Time\",\"OP retreat velocity vs Time\",\"Arc retreat velocity vs Time\"]\n",
    "            plotType=typePlots[dataIndex]\n",
    "            #Load velocity and time data from file\n",
    "            t,vel=velocitiesLoader('/home/jovyan/user_data/placeVelocitiesData/',i,plotType,\"platesVelocities_\")\n",
    "            #t,vel=getTypeVelocity(plotType,Time_array,counter,SPVel,cratVel,OPVel,arcVel)\n",
    "            #Check for 0km curve\n",
    "            if i==0:\n",
    "                colour='black'\n",
    "            else:\n",
    "                colour=Colors[counter]\n",
    "            seed.plot(t,vel,label='{0} Km'.format((eval(str(i)))),linewidth=0.6,color=colour)\n",
    "            seed.set_ylabel(\"Velocity (cm/yr)\",labelpad=2,fontsize=8)\n",
    "            seed.legend(fontsize=6,fancybox=True)\n",
    "            seed.tick_params(axis = 'both', which = 'major', labelsize =8) \n",
    "            seed.set_xlim(0,45)\n",
    "            #seed.yaxis.set_major_locator(mpl.ticker.LinearLocator(5))\n",
    "            Max=max(vel)\n",
    "            Min=min(vel)\n",
    "            if plotCounter==0:\n",
    "                seed.set_ylim((1.52*Min/5.0),Max*1.541/1.3)\n",
    "            elif plotCounter==1:\n",
    "                seed.set_ylim((1.52*Min/1.3),Max*1.541/1.2)\n",
    "            #Title from loadaed file\n",
    "            #anchored_title=AnchoredText(names[plotCounter],loc='upper center',pad=0.5,borderpad=0.5,frameon=False,prop=dict(size=15))\n",
    "            #seed.add_artist(anchored_title)\n",
    "            \n",
    "            counter=counter+1\n",
    "           \n",
    "        counter=counter-1\n",
    "        seed.set_xlabel(\"Time (Ma)\",labelpad=2,fontsize=8)\n",
    "        if plotType==\"subduction_velocity\":\n",
    "            seed.axhline(y=0, xmin=0, xmax=max(t)+max(t)/6.,color='black',linestyle='--',linewidth=0.7,alpha=0.4)\n",
    "            seed.axvline(x=16,ymin=-10,ymax=10,linestyle='--',color='black',linewidth=0.7,alpha=0.4)\n",
    "            seed.axvline(x=22.5,ymin=-10,ymax=10,linestyle='--',color='black',linewidth=0.7,alpha=0.4)\n",
    "            seed.axvline(x=34,ymin=-10,ymax=10,linestyle='--',color='black',linewidth=0.7,alpha=0.4)\n",
    "            \n",
    "        if plotType==\"Trench_retreat_vel\":\n",
    "            seed.axhline(y=0, xmin=0, xmax=max(t)+max(t)/6.,color='black',linestyle='--',linewidth=0.7,alpha=0.4)\n",
    "            seed.axvline(x=16.,ymin=-10,ymax=10,linestyle='--',color='black',linewidth=0.7,alpha=0.4)\n",
    "            seed.axvline(x=22.5,ymin=-10,ymax=10,linestyle='--',color='black',linewidth=0.7,alpha=0.4)\n",
    "            seed.axvline(x=34.,ymin=-10,ymax=10,linestyle='--',color='black',linewidth=0.7,alpha=0.4)\n",
    "\n",
    "        if plotType==\"OP_retreat_vel\":\n",
    "            seed.axhline(y=0, xmin=0, xmax=max(t)+max(t)/6.,color='black',linestyle='--',linewidth=0.7,alpha=0.4)\n",
    "            seed.axvline(x=16,ymin=-10,ymax=10,linestyle='--',color='black',linewidth=0.7,alpha=0.4)\n",
    "            seed.axvline(x=22.5,ymin=-10,ymax=10,linestyle='--',color='black',linewidth=0.7,alpha=0.4)\n",
    "            seed.axvline(x=34.,ymin=-10,ymax=10,linestyle='--',color='black',linewidth=0.7,alpha=0.4)\n",
    "            \n",
    "        adjustX=(0+45)/9.\n",
    "        #Arrange ticks Array\n",
    "        arrangeTicksX=np.arange(0,46,adjustX)\n",
    "        #Ticks Change\n",
    "        seed.xaxis.set_ticks(arrangeTicksX)\n",
    "            \n",
    "        plotCounter=plotCounter+1\n",
    "    \n",
    "    fig.tight_layout(pad=1,h_pad=0.08,w_pad=0.0)\n",
    "    pyplot.subplots_adjust(wspace=0, hspace=0)\n",
    "    %matplotlib\n",
    "    return fig\n"
   ]
  },
  {
   "cell_type": "code",
   "execution_count": 287,
   "metadata": {},
   "outputs": [],
   "source": [
    "#Model parameters and directories\n",
    "dimensions = ([-1800.,-800.],[1800.,0.])\n",
    "outres = (1500,300) #Output image resolution\n",
    "xRes,yRes = 296,160 #Grid/mesh resolution\n",
    "seed1=\"outputs_MechanicalTransference_BenchmarkFinal_\"\n",
    "seed2=\"kmArc_80Ma_DruckerPrager_WLM\"\n",
    "#gravity=9.81*u.meter/u.second**2\n",
    "#Uniform Color scale for all plots of GPE - deltaStress\n",
    "ColorsPlots=genStdColorArray([15,18,20,25,28],[\"Purples_r\",\"Blues_r\"],[True, 32.]) #[\"Blues_r\",\"Reds\"]\n",
    "#15,20,23,25,30,32,33,35"
   ]
  },
  {
   "cell_type": "code",
   "execution_count": 288,
   "metadata": {},
   "outputs": [
    {
     "data": {
      "text/plain": [
       "6.692913385826771"
      ]
     },
     "execution_count": 288,
     "metadata": {},
     "output_type": "execute_result"
    }
   ],
   "source": [
    "17/2.54"
   ]
  },
  {
   "cell_type": "code",
   "execution_count": 289,
   "metadata": {},
   "outputs": [
    {
     "data": {
      "text/plain": [
       "7.874015748031496"
      ]
     },
     "execution_count": 289,
     "metadata": {},
     "output_type": "execute_result"
    }
   ],
   "source": [
    "20/2.54"
   ]
  },
  {
   "cell_type": "code",
   "execution_count": 290,
   "metadata": {},
   "outputs": [
    {
     "name": "stdout",
     "output_type": "stream",
     "text": [
      "Using matplotlib backend: agg\n"
     ]
    },
    {
     "data": {
      "image/png": "[encoded data removed]",
      "text/plain": [
       "<Figure size 590.551x551.181 with 2 Axes>"
      ]
     },
     "execution_count": 290,
     "metadata": {},
     "output_type": "execute_result"
    }
   ],
   "source": [
    "fig=plotSubploterVelocityAlltxt((15/2.54, 14/2.54),[15,18,20,25,28],ColorsPlots,[0,2]) #for 3 use (15/2.54, 18/2.54)\n",
    "fig"
   ]
  },
  {
   "cell_type": "code",
   "execution_count": 291,
   "metadata": {},
   "outputs": [],
   "source": [
    "fig.savefig('/home/jovyan/user_data/Figs_PDF_Final/Fig7_raw.pdf')"
   ]
  },
  {
   "cell_type": "code",
   "execution_count": 20,
   "metadata": {},
   "outputs": [],
   "source": [
    "#fig.set_size_inches()"
   ]
  },
  {
   "cell_type": "code",
   "execution_count": null,
   "metadata": {},
   "outputs": [],
   "source": []
  }
 ],
 "metadata": {
  "kernelspec": {
   "display_name": "Python 3",
   "language": "python",
   "name": "python3"
  },
  "language_info": {
   "codemirror_mode": {
    "name": "ipython",
    "version": 3
   },
   "file_extension": ".py",
   "mimetype": "text/x-python",
   "name": "python",
   "nbconvert_exporter": "python",
   "pygments_lexer": "ipython3",
   "version": "3.7.3"
  }
 },
 "nbformat": 4,
 "nbformat_minor": 4
}
