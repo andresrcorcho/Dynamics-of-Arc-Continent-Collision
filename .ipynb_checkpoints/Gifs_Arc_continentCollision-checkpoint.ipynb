{
 "cells": [
  {
   "cell_type": "markdown",
   "metadata": {},
   "source": [
    "# All models Arc-continent collision GIF"
   ]
  },
  {
   "cell_type": "code",
   "execution_count": 4,
   "metadata": {},
   "outputs": [
    {
     "name": "stdout",
     "output_type": "stream",
     "text": [
      "[NbConvertApp] Converting notebook Readme.ipynb to markdown\n",
      "[NbConvertApp] Writing 2539 bytes to Readme.md\n"
     ]
    }
   ],
   "source": [
    "#!jupyter nbconvert --ClearMetadataPreprocessor.enabled=True --ClearOutput.enabled=True --to markdown Readme.ipynb"
   ]
  },
  {
   "cell_type": "code",
   "execution_count": 2,
   "metadata": {},
   "outputs": [],
   "source": [
    "sourceDir=\"./Gifs_Simulations_21-03-2020/\""
   ]
  },
  {
   "cell_type": "markdown",
   "metadata": {},
   "source": [
    "##### Results - Two end-member behaviors\n",
    "-------\n",
    "\n",
    "| 15-31 km arc thickness|\n",
    "| :---: |\n",
    "| ![alt](./Gifs_Simulations_21-03-2020/animation_25.gif) |\n",
    "\n",
    "-------\n",
    "\n",
    "| 32-35 km arc thickness |\n",
    "| :---: |     \n",
    "|![alt](./Gifs_Simulations_21-03-2020/animation_35.gif) |"
   ]
  },
  {
   "cell_type": "markdown",
   "metadata": {},
   "source": [
    "## Thick arcs (32-35 km) "
   ]
  },
  {
   "cell_type": "markdown",
   "metadata": {},
   "source": [
    "##### Results - Thick Arcs\n",
    "-------\n",
    "\n",
    "| 35 km arc thickness|\n",
    "| :---: |\n",
    "| ![alt](./Gifs_Simulations_21-03-2020/animation_35.gif) |\n",
    "\n",
    "-------\n",
    "\n",
    "| 34 km arc thickness |\n",
    "| :---: |     \n",
    "|![alt](./Gifs_Simulations_21-03-2020/animation_34.gif) |\n",
    "\n",
    "-------\n",
    "\n",
    "| 33 km arc thickness |\n",
    "| :---: |     \n",
    "|![alt](./Gifs_Simulations_21-03-2020/animation_33.gif) |\n",
    "\n",
    "-------\n",
    "\n",
    "| 32 km arc thickness |\n",
    "| :---: |     \n",
    "|![alt](./Gifs_Simulations_21-03-2020/animation_32.gif) |\n",
    "\n"
   ]
  },
  {
   "cell_type": "markdown",
   "metadata": {},
   "source": [
    "## Thin arcs (15-31 km) "
   ]
  },
  {
   "cell_type": "markdown",
   "metadata": {},
   "source": [
    "##### Results - Thick Arcs\n",
    "-------\n",
    "\n",
    "| 31 km arc thickness|\n",
    "| :---: |\n",
    "| ![alt](./Gifs_Simulations_21-03-2020/animation_31.gif) |\n",
    "\n",
    "-------\n",
    "\n",
    "| 30 km arc thickness |\n",
    "| :---: |     \n",
    "|![alt](./Gifs_Simulations_21-03-2020/animation_30.gif) |\n",
    "\n",
    "-------\n",
    "\n",
    "| 29 km arc thickness |\n",
    "| :---: |     \n",
    "|![alt](./Gifs_Simulations_21-03-2020/animation_29.gif) |\n",
    "\n",
    "-------\n",
    "\n",
    "| 28 km arc thickness |\n",
    "| :---: |     \n",
    "|![alt](./Gifs_Simulations_21-03-2020/animation_28.gif) |\n",
    "\n",
    "-------\n",
    "\n",
    "| 27 km arc thickness |\n",
    "| :---: |     \n",
    "|![alt](./Gifs_Simulations_21-03-2020/animation_27.gif) |\n",
    "\n",
    "-------\n",
    "\n",
    "| 26 km arc thickness |\n",
    "| :---: |     \n",
    "|![alt](./Gifs_Simulations_21-03-2020/animation_26.gif) |\n",
    "\n",
    "-------\n",
    "\n",
    "| 25 km arc thickness |\n",
    "| :---: |     \n",
    "|![alt](./Gifs_Simulations_21-03-2020/animation_25.gif) |\n",
    "\n",
    "-------\n",
    "\n",
    "| 24 km arc thickness |\n",
    "| :---: |     \n",
    "|![alt](./Gifs_Simulations_21-03-2020/animation_24.gif) |\n",
    "\n",
    "-------\n",
    "\n",
    "| 23 km arc thickness |\n",
    "| :---: |     \n",
    "|![alt](./Gifs_Simulations_21-03-2020/animation_23.gif) |\n",
    "\n",
    "-------\n",
    "\n",
    "| 22 km arc thickness |\n",
    "| :---: |     \n",
    "|![alt](./Gifs_Simulations_21-03-2020/animation_22.gif) |\n",
    "\n",
    "-------\n",
    "\n",
    "| 21 km arc thickness |\n",
    "| :---: |     \n",
    "|![alt](./Gifs_Simulations_21-03-2020/animation_21.gif) |\n",
    "\n",
    "-------\n",
    "\n",
    "| 20 km arc thickness |\n",
    "| :---: |     \n",
    "|![alt](./Gifs_Simulations_21-03-2020/animation_20.gif) |\n",
    "\n",
    "-------\n",
    "\n",
    "| 19 km arc thickness |\n",
    "| :---: |     \n",
    "|![alt](./Gifs_Simulations_21-03-2020/animation_19.gif) |\n",
    "\n",
    "-------\n",
    "\n",
    "| 18 km arc thickness |\n",
    "| :---: |     \n",
    "|![alt](./Gifs_Simulations_21-03-2020/animation_18.gif) |\n",
    "\n",
    "-------\n",
    "\n",
    "| 17 km arc thickness |\n",
    "| :---: |     \n",
    "|![alt](./Gifs_Simulations_21-03-2020/animation_17.gif) |\n",
    "\n",
    "-------\n",
    "\n",
    "| 16 km arc thickness |\n",
    "| :---: |     \n",
    "|![alt](./Gifs_Simulations_21-03-2020/animation_16.gif) |\n",
    "\n",
    "-------\n",
    "\n",
    "| 15 km arc thickness |\n",
    "| :---: |     \n",
    "|![alt](./Gifs_Simulations_21-03-2020/animation_15.gif) |"
   ]
  },
  {
   "cell_type": "code",
   "execution_count": null,
   "metadata": {},
   "outputs": [],
   "source": []
  },
  {
   "cell_type": "code",
   "execution_count": null,
   "metadata": {},
   "outputs": [],
   "source": []
  }
 ],
 "metadata": {
  "kernelspec": {
   "display_name": "Python 3",
   "language": "python",
   "name": "python3"
  },
  "language_info": {
   "codemirror_mode": {
    "name": "ipython",
    "version": 3
   },
   "file_extension": ".py",
   "mimetype": "text/x-python",
   "name": "python",
   "nbconvert_exporter": "python",
   "pygments_lexer": "ipython3",
   "version": "3.7.6"
  }
 },
 "nbformat": 4,
 "nbformat_minor": 2
}
