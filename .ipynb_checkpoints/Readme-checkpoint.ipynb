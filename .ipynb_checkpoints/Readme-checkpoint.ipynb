{
 "cells": [
  {
   "cell_type": "markdown",
   "metadata": {},
   "source": [
    "# Dynamics of arc-continent collision: the role of lithospheric-mantle dynamics on controlling the evolution of stress regime"
   ]
  },
  {
   "cell_type": "markdown",
   "metadata": {},
   "source": [
    "## Abstract "
   ]
  },
  {
   "cell_type": "markdown",
   "metadata": {},
   "source": [
    "Arc-continent collision is a multi-stage process where the intra-oceanic crust collides with a continental margin and contributes to the growth of the continental crust. We explored the link between compositional density contrasts, lithospheric-deep mantle dynamics and the evolution of the stress regime during and after arc-continent collision. We performed a series of simulations only varying the arc thickness as it controls the buoyancy of intra-oceanic arcs. Therefore, we investigated a range of density contrasts between the colliding arc and the continental plate. Modelling results show that arc-continent collision is followed by one of two dynamic mechanisms: (i) slab-anchoring and arc transference in dense arcs where the density contrast is larger than -3% (15-31 km in thickness); and (ii) slab break-off in buoyant arcs where the density contrast is less than -3% (32-35 km in thickness). We conclude that the large-scale mantle return flow emerged from slab-anchoring facilitates the simultaneous occurrence of compression and extension by enhancing: (i) compression and thickening of the buoyant intra-oceanic arc crust; and (ii) the buoyancy anomaly that triggers the release of a gravitational flow. The results of our numerical modelling highlight the importance of lithospheric-mantle dynamics on controlling the spatio-temporal evolution of stress in arc-continent collision settings. The dynamic interplay between arc-continent collision and lithospheric mantle dynamics documented in this paper has broader implications in the understanding of long-lived geodynamic scenarios such as the closure of ocean basins where arc-continent collision often occurs.\n"
   ]
  },
  {
   "cell_type": "markdown",
   "metadata": {},
   "source": [
    "<img src=\"./graphic_abstract.png\" alt=\"Drawing\" style=\"width: 1500px;/\">\n",
    "<img src=\"./StrainRate.png\" alt=\"Drawing\" style=\"width: 1200px;/\">\n",
    "<img src=\"./MField.png\" alt=\"Drawing\" style=\"width: 1200px;/\">"
   ]
  },
  {
   "cell_type": "markdown",
   "metadata": {},
   "source": [
    "### This Repository:"
   ]
  },
  {
   "cell_type": "markdown",
   "metadata": {},
   "source": [
    "Contains the original notebooks  scripts used to ran the numerical simulations presented in the paper: \"Dynamics of arc-continent collision: the role of lithospheric-mantle dynamics on controlling the evolution of stress regime\", within the folder \"Arc-continent collision\". Additionally, it contains the measured kinematics and viscous dissipation data within the \"Kinematics_data\" and \"Viscous_dissipation_data\", that can be processed with the scripts within the folder \"Scripts for creating figures\"."
   ]
  }
 ],
 "metadata": {
  "kernelspec": {
   "display_name": "Python 3",
   "language": "python",
   "name": "python3"
  },
  "language_info": {
   "codemirror_mode": {
    "name": "ipython",
    "version": 3
   },
   "file_extension": ".py",
   "mimetype": "text/x-python",
   "name": "python",
   "nbconvert_exporter": "python",
   "pygments_lexer": "ipython3",
   "version": "3.7.6"
  }
 },
 "nbformat": 4,
 "nbformat_minor": 4
}
